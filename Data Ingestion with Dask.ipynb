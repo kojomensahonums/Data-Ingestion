{
 "cells": [
  {
   "cell_type": "code",
   "execution_count": 1,
   "id": "20a1a3a7",
   "metadata": {},
   "outputs": [
    {
     "name": "stdout",
     "output_type": "stream",
     "text": [
      "Overwriting instruct.yaml\n"
     ]
    }
   ],
   "source": [
    "%%writefile instruct.yaml \n",
    "\n",
    "file_type: csv\n",
    "dataset_name: custom_1988_2020\n",
    "file_name: custom_1988_2020\n",
    "table_name: 103\n",
    "inbound_delimiter: \",\"\n",
    "outbound_delimiter: \"|\"\n",
    "skip_leading_rows: 1\n",
    "columns:\n",
    "    - '198801'\n",
    "    - '1'\n",
    "    - '103'\n",
    "    - '100'\n",
    "    - 000000190\n",
    "    - '0'\n",
    "    - '35843'\n",
    "    - '34353'"
   ]
  },
  {
   "cell_type": "code",
   "execution_count": 2,
   "id": "a1c9a88c",
   "metadata": {},
   "outputs": [
    {
     "name": "stdout",
     "output_type": "stream",
     "text": [
      "Overwriting testutility.py\n"
     ]
    }
   ],
   "source": [
    "%%writefile testutility.py \n",
    "\n",
    "import logging\n",
    "import os\n",
    "import subprocess\n",
    "import yaml\n",
    "import pandas as pd\n",
    "import datetime \n",
    "import gc\n",
    "import re\n",
    "\n",
    "\n",
    "################\n",
    "# File Reading #\n",
    "################\n",
    "\n",
    "def read_config_file(filepath):\n",
    "    with open(filepath, 'r') as stream:\n",
    "        try:\n",
    "            return yaml.safe_load(stream)\n",
    "        except yaml.YAMLError as exc:\n",
    "            logging.error(exc)\n",
    "\n",
    "\n",
    "def replacer(string, char):\n",
    "    pattern = char + '{2,}'\n",
    "    string = re.sub(pattern, char, string) \n",
    "    return string\n",
    "\n",
    "def col_header_val(df,table_config):\n",
    "    '''\n",
    "    replace whitespaces in the column\n",
    "    and standardized column names\n",
    "    '''\n",
    "    df.columns = df.columns.str.lower()\n",
    "    df.columns = df.columns.str.replace('[^\\w]','_',regex=True)\n",
    "    df.columns = list(map(lambda x: x.strip('_'), list(df.columns)))\n",
    "    df.columns = list(map(lambda x: replacer(x,'_'), list(df.columns)))\n",
    "    expected_col = list(map(lambda x: str(x).lower(),  table_config['columns']))\n",
    "    expected_col.sort()\n",
    "    df.columns =list(map(lambda x: str(x).lower(), list(df.columns)))\n",
    "    df = df.reset_index()\n",
    "    if len(df.columns) == len(expected_col) and list(expected_col)  == list(df.columns):\n",
    "        print(\"column name and column length validation passed\")\n",
    "        return 1\n",
    "    else:\n",
    "        print(\"column name and column length validation failed\")\n",
    "        mismatched_columns_file = list(set(df.columns).difference(expected_col))\n",
    "        print(\"Following File columns are not in the YAML file\",mismatched_columns_file)\n",
    "        missing_YAML_file = list(set(expected_col).difference(df.columns))\n",
    "        print(\"Following YAML columns are not in the file uploaded\",missing_YAML_file)\n",
    "        logging.info(f'df columns: {df.columns}')\n",
    "        logging.info(f'expected columns: {expected_col}')\n",
    "        return 0"
   ]
  },
  {
   "cell_type": "code",
   "execution_count": 4,
   "id": "196ee3a5",
   "metadata": {},
   "outputs": [],
   "source": [
    "# Read config file\n",
    "import testutility as util\n",
    "config_data = util.read_config_file(\"instruct.yaml\")"
   ]
  },
  {
   "cell_type": "code",
   "execution_count": 5,
   "id": "38bdd700",
   "metadata": {},
   "outputs": [
    {
     "data": {
      "text/plain": [
       "','"
      ]
     },
     "execution_count": 5,
     "metadata": {},
     "output_type": "execute_result"
    }
   ],
   "source": [
    "# dictionary with which you can subset whichever key you want\n",
    "config_data['inbound_delimiter']"
   ]
  },
  {
   "cell_type": "code",
   "execution_count": 6,
   "id": "ef30be49",
   "metadata": {},
   "outputs": [
    {
     "data": {
      "text/plain": [
       "{'file_type': 'csv',\n",
       " 'dataset_name': 'custom_1988_2020',\n",
       " 'file_name': 'custom_1988_2020',\n",
       " 'table_name': 103,\n",
       " 'inbound_delimiter': ',',\n",
       " 'outbound_delimiter': '|',\n",
       " 'skip_leading_rows': 1,\n",
       " 'columns': ['198801', '1', '103', '100', '000000190', '0', '35843', '34353']}"
      ]
     },
     "execution_count": 6,
     "metadata": {},
     "output_type": "execute_result"
    }
   ],
   "source": [
    "#inspecting data of config file\n",
    "config_data"
   ]
  },
  {
   "cell_type": "code",
   "execution_count": 7,
   "id": "3ba9a4dd",
   "metadata": {},
   "outputs": [],
   "source": [
    "import dask.dataframe as dd"
   ]
  },
  {
   "cell_type": "code",
   "execution_count": 8,
   "id": "86fc9d2c",
   "metadata": {
    "scrolled": true
   },
   "outputs": [
    {
     "data": {
      "text/html": [
       "<div>\n",
       "<style scoped>\n",
       "    .dataframe tbody tr th:only-of-type {\n",
       "        vertical-align: middle;\n",
       "    }\n",
       "\n",
       "    .dataframe tbody tr th {\n",
       "        vertical-align: top;\n",
       "    }\n",
       "\n",
       "    .dataframe thead th {\n",
       "        text-align: right;\n",
       "    }\n",
       "</style>\n",
       "<table border=\"1\" class=\"dataframe\">\n",
       "  <thead>\n",
       "    <tr style=\"text-align: right;\">\n",
       "      <th></th>\n",
       "      <th>198801</th>\n",
       "      <th>1</th>\n",
       "      <th>103</th>\n",
       "      <th>100</th>\n",
       "      <th>000000190</th>\n",
       "      <th>0</th>\n",
       "      <th>35843</th>\n",
       "      <th>34353</th>\n",
       "    </tr>\n",
       "  </thead>\n",
       "  <tbody>\n",
       "    <tr>\n",
       "      <th>0</th>\n",
       "      <td>198801</td>\n",
       "      <td>1</td>\n",
       "      <td>103</td>\n",
       "      <td>100</td>\n",
       "      <td>120991000</td>\n",
       "      <td>0</td>\n",
       "      <td>1590</td>\n",
       "      <td>4154</td>\n",
       "    </tr>\n",
       "    <tr>\n",
       "      <th>1</th>\n",
       "      <td>198801</td>\n",
       "      <td>1</td>\n",
       "      <td>103</td>\n",
       "      <td>100</td>\n",
       "      <td>210390900</td>\n",
       "      <td>0</td>\n",
       "      <td>4500</td>\n",
       "      <td>2565</td>\n",
       "    </tr>\n",
       "    <tr>\n",
       "      <th>2</th>\n",
       "      <td>198801</td>\n",
       "      <td>1</td>\n",
       "      <td>103</td>\n",
       "      <td>100</td>\n",
       "      <td>220890200</td>\n",
       "      <td>0</td>\n",
       "      <td>3000</td>\n",
       "      <td>757</td>\n",
       "    </tr>\n",
       "    <tr>\n",
       "      <th>3</th>\n",
       "      <td>198801</td>\n",
       "      <td>1</td>\n",
       "      <td>103</td>\n",
       "      <td>100</td>\n",
       "      <td>240220000</td>\n",
       "      <td>0</td>\n",
       "      <td>26000</td>\n",
       "      <td>40668</td>\n",
       "    </tr>\n",
       "    <tr>\n",
       "      <th>4</th>\n",
       "      <td>198801</td>\n",
       "      <td>1</td>\n",
       "      <td>103</td>\n",
       "      <td>100</td>\n",
       "      <td>250410000</td>\n",
       "      <td>0</td>\n",
       "      <td>5</td>\n",
       "      <td>8070</td>\n",
       "    </tr>\n",
       "  </tbody>\n",
       "</table>\n",
       "</div>"
      ],
      "text/plain": [
       "   198801  1  103  100  000000190  0  35843  34353\n",
       "0  198801  1  103  100  120991000  0   1590   4154\n",
       "1  198801  1  103  100  210390900  0   4500   2565\n",
       "2  198801  1  103  100  220890200  0   3000    757\n",
       "3  198801  1  103  100  240220000  0  26000  40668\n",
       "4  198801  1  103  100  250410000  0      5   8070"
      ]
     },
     "execution_count": 8,
     "metadata": {},
     "output_type": "execute_result"
    }
   ],
   "source": [
    "# read the file using config file\n",
    "file_type = config_data['file_type']\n",
    "source_file = config_data['file_name'] + f'.{file_type}'\n",
    "df = dd.read_csv(source_file)\n",
    "df.head()"
   ]
  },
  {
   "cell_type": "code",
   "execution_count": 14,
   "id": "f214180d",
   "metadata": {},
   "outputs": [
    {
     "data": {
      "text/plain": [
       "71"
      ]
     },
     "execution_count": 14,
     "metadata": {},
     "output_type": "execute_result"
    }
   ],
   "source": [
    "# number of pandas dataframes in a single dask dataframe\n",
    "df.npartitions"
   ]
  },
  {
   "cell_type": "code",
   "execution_count": 10,
   "id": "635f2932",
   "metadata": {
    "scrolled": true
   },
   "outputs": [
    {
     "name": "stdout",
     "output_type": "stream",
     "text": [
      "column name and column length validation failed\n",
      "Following File columns are not in the YAML file ['index']\n",
      "Following YAML columns are not in the file uploaded []\n"
     ]
    },
    {
     "data": {
      "text/plain": [
       "0"
      ]
     },
     "execution_count": 10,
     "metadata": {},
     "output_type": "execute_result"
    }
   ],
   "source": [
    "#validate the header of the file\n",
    "util.col_header_val(df,config_data)"
   ]
  },
  {
   "cell_type": "code",
   "execution_count": 11,
   "id": "403bf9fb",
   "metadata": {},
   "outputs": [
    {
     "name": "stdout",
     "output_type": "stream",
     "text": [
      "columns of files are: Index(['198801', '1', '103', '100', '000000190', '0', '35843', '34353'], dtype='object')\n",
      "columns of YAML are: ['198801', '1', '103', '100', '000000190', '0', '35843', '34353']\n"
     ]
    }
   ],
   "source": [
    "print(\"columns of files are:\" ,df.columns)\n",
    "print(\"columns of YAML are:\" ,config_data['columns'])"
   ]
  },
  {
   "cell_type": "code",
   "execution_count": 12,
   "id": "a494a1f7",
   "metadata": {},
   "outputs": [
    {
     "data": {
      "text/plain": [
       "['198801', '1', '103', '100', '000000190', '0', '35843', '34353']"
      ]
     },
     "execution_count": 12,
     "metadata": {},
     "output_type": "execute_result"
    }
   ],
   "source": [
    "config_data['columns']"
   ]
  },
  {
   "cell_type": "code",
   "execution_count": 13,
   "id": "56d2175d",
   "metadata": {},
   "outputs": [
    {
     "name": "stdout",
     "output_type": "stream",
     "text": [
      "column name and column length validation failed\n",
      "Following File columns are not in the YAML file ['index']\n",
      "Following YAML columns are not in the file uploaded []\n",
      "validation failed\n"
     ]
    }
   ],
   "source": [
    "if util.col_header_val(df,config_data)==0:\n",
    "    print(\"validation failed\")\n",
    "    # write code to reject the file\n",
    "else:\n",
    "    print(\"col validation passed\")\n",
    "    # write the code to perform further action\n",
    "    # in the pipleine"
   ]
  },
  {
   "cell_type": "code",
   "execution_count": 16,
   "id": "4fb281eb",
   "metadata": {},
   "outputs": [
    {
     "data": {
      "text/html": [
       "<div>\n",
       "<style scoped>\n",
       "    .dataframe tbody tr th:only-of-type {\n",
       "        vertical-align: middle;\n",
       "    }\n",
       "\n",
       "    .dataframe tbody tr th {\n",
       "        vertical-align: top;\n",
       "    }\n",
       "\n",
       "    .dataframe thead th {\n",
       "        text-align: right;\n",
       "    }\n",
       "</style>\n",
       "<table border=\"1\" class=\"dataframe\">\n",
       "  <thead>\n",
       "    <tr style=\"text-align: right;\">\n",
       "      <th></th>\n",
       "      <th>198801</th>\n",
       "      <th>1</th>\n",
       "      <th>103</th>\n",
       "      <th>100</th>\n",
       "      <th>000000190</th>\n",
       "      <th>0</th>\n",
       "      <th>35843</th>\n",
       "      <th>34353</th>\n",
       "    </tr>\n",
       "  </thead>\n",
       "  <tbody>\n",
       "    <tr>\n",
       "      <th>count</th>\n",
       "      <td>1.136073e+08</td>\n",
       "      <td>1.136073e+08</td>\n",
       "      <td>1.136073e+08</td>\n",
       "      <td>1.136073e+08</td>\n",
       "      <td>1.136073e+08</td>\n",
       "      <td>1.136073e+08</td>\n",
       "      <td>1.136073e+08</td>\n",
       "      <td>1.136073e+08</td>\n",
       "    </tr>\n",
       "    <tr>\n",
       "      <th>mean</th>\n",
       "      <td>2.005126e+05</td>\n",
       "      <td>1.391867e+00</td>\n",
       "      <td>1.932035e+02</td>\n",
       "      <td>3.133187e+02</td>\n",
       "      <td>6.545763e+08</td>\n",
       "      <td>4.707676e+04</td>\n",
       "      <td>1.271670e+05</td>\n",
       "      <td>3.240830e+04</td>\n",
       "    </tr>\n",
       "    <tr>\n",
       "      <th>std</th>\n",
       "      <td>9.286563e+02</td>\n",
       "      <td>4.881672e-01</td>\n",
       "      <td>1.210249e+02</td>\n",
       "      <td>1.797740e+02</td>\n",
       "      <td>2.521763e+08</td>\n",
       "      <td>2.914592e+07</td>\n",
       "      <td>4.571867e+06</td>\n",
       "      <td>3.769082e+05</td>\n",
       "    </tr>\n",
       "    <tr>\n",
       "      <th>min</th>\n",
       "      <td>1.988010e+05</td>\n",
       "      <td>1.000000e+00</td>\n",
       "      <td>1.030000e+02</td>\n",
       "      <td>1.000000e+02</td>\n",
       "      <td>1.100000e+01</td>\n",
       "      <td>0.000000e+00</td>\n",
       "      <td>0.000000e+00</td>\n",
       "      <td>3.000000e+01</td>\n",
       "    </tr>\n",
       "    <tr>\n",
       "      <th>25%</th>\n",
       "      <td>1.997100e+05</td>\n",
       "      <td>1.000000e+00</td>\n",
       "      <td>1.110000e+02</td>\n",
       "      <td>1.040000e+02</td>\n",
       "      <td>4.820109e+08</td>\n",
       "      <td>0.000000e+00</td>\n",
       "      <td>1.160000e+02</td>\n",
       "      <td>7.640000e+02</td>\n",
       "    </tr>\n",
       "    <tr>\n",
       "      <th>50%</th>\n",
       "      <td>2.005100e+05</td>\n",
       "      <td>1.000000e+00</td>\n",
       "      <td>2.050000e+02</td>\n",
       "      <td>3.050000e+02</td>\n",
       "      <td>8.306290e+08</td>\n",
       "      <td>0.000000e+00</td>\n",
       "      <td>9.000000e+02</td>\n",
       "      <td>2.782000e+03</td>\n",
       "    </tr>\n",
       "    <tr>\n",
       "      <th>75%</th>\n",
       "      <td>2.013080e+05</td>\n",
       "      <td>2.000000e+00</td>\n",
       "      <td>3.020000e+02</td>\n",
       "      <td>5.000000e+02</td>\n",
       "      <td>8.526920e+08</td>\n",
       "      <td>2.600000e+01</td>\n",
       "      <td>8.975000e+03</td>\n",
       "      <td>1.186500e+04</td>\n",
       "    </tr>\n",
       "    <tr>\n",
       "      <th>max</th>\n",
       "      <td>2.020120e+05</td>\n",
       "      <td>2.000000e+00</td>\n",
       "      <td>7.030000e+02</td>\n",
       "      <td>9.080000e+02</td>\n",
       "      <td>9.706000e+08</td>\n",
       "      <td>1.255000e+11</td>\n",
       "      <td>1.885790e+09</td>\n",
       "      <td>1.832784e+08</td>\n",
       "    </tr>\n",
       "  </tbody>\n",
       "</table>\n",
       "</div>"
      ],
      "text/plain": [
       "             198801             1           103           100     000000190  \\\n",
       "count  1.136073e+08  1.136073e+08  1.136073e+08  1.136073e+08  1.136073e+08   \n",
       "mean   2.005126e+05  1.391867e+00  1.932035e+02  3.133187e+02  6.545763e+08   \n",
       "std    9.286563e+02  4.881672e-01  1.210249e+02  1.797740e+02  2.521763e+08   \n",
       "min    1.988010e+05  1.000000e+00  1.030000e+02  1.000000e+02  1.100000e+01   \n",
       "25%    1.997100e+05  1.000000e+00  1.110000e+02  1.040000e+02  4.820109e+08   \n",
       "50%    2.005100e+05  1.000000e+00  2.050000e+02  3.050000e+02  8.306290e+08   \n",
       "75%    2.013080e+05  2.000000e+00  3.020000e+02  5.000000e+02  8.526920e+08   \n",
       "max    2.020120e+05  2.000000e+00  7.030000e+02  9.080000e+02  9.706000e+08   \n",
       "\n",
       "                  0         35843         34353  \n",
       "count  1.136073e+08  1.136073e+08  1.136073e+08  \n",
       "mean   4.707676e+04  1.271670e+05  3.240830e+04  \n",
       "std    2.914592e+07  4.571867e+06  3.769082e+05  \n",
       "min    0.000000e+00  0.000000e+00  3.000000e+01  \n",
       "25%    0.000000e+00  1.160000e+02  7.640000e+02  \n",
       "50%    0.000000e+00  9.000000e+02  2.782000e+03  \n",
       "75%    2.600000e+01  8.975000e+03  1.186500e+04  \n",
       "max    1.255000e+11  1.885790e+09  1.832784e+08  "
      ]
     },
     "execution_count": 16,
     "metadata": {},
     "output_type": "execute_result"
    }
   ],
   "source": [
    "df.describe().compute()  "
   ]
  },
  {
   "cell_type": "markdown",
   "id": "f0f8501c",
   "metadata": {},
   "source": [
    "Dask dataframe object has no attribute 'reindex'.<br>\n",
    "Pandas framewwork could not load dataframe as size was too large and could not allocate memory space.<br>\n",
    "Thus, index was reset and columns do not match even though the files being compared are the same."
   ]
  },
  {
   "cell_type": "markdown",
   "id": "3af7efea",
   "metadata": {},
   "source": [
    "File was downloaded from Kaggle and its size is 4.23 GB."
   ]
  }
 ],
 "metadata": {
  "kernelspec": {
   "display_name": "Python 3 (ipykernel)",
   "language": "python",
   "name": "python3"
  },
  "language_info": {
   "codemirror_mode": {
    "name": "ipython",
    "version": 3
   },
   "file_extension": ".py",
   "mimetype": "text/x-python",
   "name": "python",
   "nbconvert_exporter": "python",
   "pygments_lexer": "ipython3",
   "version": "3.8.13"
  }
 },
 "nbformat": 4,
 "nbformat_minor": 5
}
